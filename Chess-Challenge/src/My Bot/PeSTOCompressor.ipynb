{
 "cells": [
  {
   "cell_type": "code",
   "execution_count": 1,
   "id": "initial_id",
   "metadata": {
    "collapsed": true,
    "ExecuteTime": {
     "end_time": "2023-09-16T21:12:37.797915Z",
     "start_time": "2023-09-16T21:12:37.792595Z"
    }
   },
   "outputs": [
    {
     "name": "stdout",
     "output_type": "stream",
     "text": [
      "Max Value:  134 ,  187\n",
      "Min Value:  -167 ,  -99\n"
     ]
    }
   ],
   "source": [
    "\n",
    "mg_pawn_table = [\n",
    "      0,   0,   0,   0,   0,   0,  0,   0,\n",
    "     98, 134,  61,  95,  68, 126, 34, -11,\n",
    "     -6,   7,  26,  31,  65,  56, 25, -20,\n",
    "    -14,  13,   6,  21,  23,  12, 17, -23,\n",
    "    -27,  -2,  -5,  12,  17,   6, 10, -25,\n",
    "    -26,  -4,  -4, -10,   3,   3, 33, -12,\n",
    "    -35,  -1, -20, -23, -15,  24, 38, -22,\n",
    "      0,   0,   0,   0,   0,   0,  0,   0,\n",
    "]\n",
    "\n",
    "eg_pawn_table = [\n",
    "      0,   0,   0,   0,   0,   0,   0,   0,\n",
    "    178, 173, 158, 134, 147, 132, 165, 187,\n",
    "     94, 100,  85,  67,  56,  53,  82,  84,\n",
    "     32,  24,  13,   5,  -2,   4,  17,  17,\n",
    "     13,   9,  -3,  -7,  -7,  -8,   3,  -1,\n",
    "      4,   7,  -6,   1,   0,  -5,  -1,  -8,\n",
    "     13,   8,   8,  10,  13,   0,   2,  -7,\n",
    "      0,   0,   0,   0,   0,   0,   0,   0,\n",
    "]\n",
    "\n",
    "mg_knight_table = [\n",
    "    -167, -89, -34, -49,  61, -97, -15, -107,\n",
    "     -73, -41,  72,  36,  23,  62,   7,  -17,\n",
    "     -47,  60,  37,  65,  84, 129,  73,   44,\n",
    "      -9,  17,  19,  53,  37,  69,  18,   22,\n",
    "     -13,   4,  16,  13,  28,  19,  21,   -8,\n",
    "     -23,  -9,  12,  10,  19,  17,  25,  -16,\n",
    "     -29, -53, -12,  -3,  -1,  18, -14,  -19,\n",
    "    -105, -21, -58, -33, -17, -28, -19,  -23,\n",
    "]\n",
    "\n",
    "eg_knight_table = [\n",
    "    -58, -38, -13, -28, -31, -27, -63, -99,\n",
    "    -25,  -8, -25,  -2,  -9, -25, -24, -52,\n",
    "    -24, -20,  10,   9,  -1,  -9, -19, -41,\n",
    "    -17,   3,  22,  22,  22,  11,   8, -18,\n",
    "    -18,  -6,  16,  25,  16,  17,   4, -18,\n",
    "    -23,  -3,  -1,  15,  10,  -3, -20, -22,\n",
    "    -42, -20, -10,  -5,  -2, -20, -23, -44,\n",
    "    -29, -51, -23, -15, -22, -18, -50, -64,\n",
    "]\n",
    "\n",
    "mg_bishop_table = [\n",
    "    -29,   4, -82, -37, -25, -42,   7,  -8,\n",
    "    -26,  16, -18, -13,  30,  59,  18, -47,\n",
    "    -16,  37,  43,  40,  35,  50,  37,  -2,\n",
    "     -4,   5,  19,  50,  37,  37,   7,  -2,\n",
    "     -6,  13,  13,  26,  34,  12,  10,   4,\n",
    "      0,  15,  15,  15,  14,  27,  18,  10,\n",
    "      4,  15,  16,   0,   7,  21,  33,   1,\n",
    "    -33,  -3, -14, -21, -13, -12, -39, -21,\n",
    "]\n",
    "\n",
    "eg_bishop_table = [\n",
    "    -14, -21, -11,  -8, -7,  -9, -17, -24,\n",
    "     -8,  -4,   7, -12, -3, -13,  -4, -14,\n",
    "      2,  -8,   0,  -1, -2,   6,   0,   4,\n",
    "     -3,   9,  12,   9, 14,  10,   3,   2,\n",
    "     -6,   3,  13,  19,  7,  10,  -3,  -9,\n",
    "    -12,  -3,   8,  10, 13,   3,  -7, -15,\n",
    "    -14, -18,  -7,  -1,  4,  -9, -15, -27,\n",
    "    -23,  -9, -23,  -5, -9, -16,  -5, -17,\n",
    "]\n",
    "\n",
    "mg_rook_table = [\n",
    "     32,  42,  32,  51, 63,  9,  31,  43,\n",
    "     27,  32,  58,  62, 80, 67,  26,  44,\n",
    "     -5,  19,  26,  36, 17, 45,  61,  16,\n",
    "    -24, -11,   7,  26, 24, 35,  -8, -20,\n",
    "    -36, -26, -12,  -1,  9, -7,   6, -23,\n",
    "    -45, -25, -16, -17,  3,  0,  -5, -33,\n",
    "    -44, -16, -20,  -9, -1, 11,  -6, -71,\n",
    "    -19, -13,   1,  17, 16,  7, -37, -26,\n",
    "]\n",
    "\n",
    "eg_rook_table = [\n",
    "    13, 10, 18, 15, 12,  12,   8,   5,\n",
    "    11, 13, 13, 11, -3,   3,   8,   3,\n",
    "     7,  7,  7,  5,  4,  -3,  -5,  -3,\n",
    "     4,  3, 13,  1,  2,   1,  -1,   2,\n",
    "     3,  5,  8,  4, -5,  -6,  -8, -11,\n",
    "    -4,  0, -5, -1, -7, -12,  -8, -16,\n",
    "    -6, -6,  0,  2, -9,  -9, -11,  -3,\n",
    "    -9,  2,  3, -1, -5, -13,   4, -20,\n",
    "]\n",
    "\n",
    "mg_queen_table = [\n",
    "    -28,   0,  29,  12,  59,  44,  43,  45,\n",
    "    -24, -39,  -5,   1, -16,  57,  28,  54,\n",
    "    -13, -17,   7,   8,  29,  56,  47,  57,\n",
    "    -27, -27, -16, -16,  -1,  17,  -2,   1,\n",
    "     -9, -26,  -9, -10,  -2,  -4,   3,  -3,\n",
    "    -14,   2, -11,  -2,  -5,   2,  14,   5,\n",
    "    -35,  -8,  11,   2,   8,  15,  -3,   1,\n",
    "     -1, -18,  -9,  10, -15, -25, -31, -50,\n",
    "]\n",
    "\n",
    "eg_queen_table = [\n",
    "     -9,  22,  22,  27,  27,  19,  10,  20,\n",
    "    -17,  20,  32,  41,  58,  25,  30,   0,\n",
    "    -20,   6,   9,  49,  47,  35,  19,   9,\n",
    "      3,  22,  24,  45,  57,  40,  57,  36,\n",
    "    -18,  28,  19,  47,  31,  34,  39,  23,\n",
    "    -16, -27,  15,   6,   9,  17,  10,   5,\n",
    "    -22, -23, -30, -16, -16, -23, -36, -32,\n",
    "    -33, -28, -22, -43,  -5, -32, -20, -41,\n",
    "]\n",
    "\n",
    "mg_king_table = [\n",
    "    -65,  23,  16, -15, -56, -34,   2,  13,\n",
    "     29,  -1, -20,  -7,  -8,  -4, -38, -29,\n",
    "     -9,  24,   2, -16, -20,   6,  22, -22,\n",
    "    -17, -20, -12, -27, -30, -25, -14, -36,\n",
    "    -49,  -1, -27, -39, -46, -44, -33, -51,\n",
    "    -14, -14, -22, -46, -44, -30, -15, -27,\n",
    "      1,   7,  -8, -64, -43, -16,   9,   8,\n",
    "    -15,  36,  12, -54,   8, -28,  24,  14,\n",
    "]\n",
    "\n",
    "eg_king_table = [\n",
    "    -74, -35, -18, -18, -11,  15,   4, -17,\n",
    "    -12,  17,  14,  17,  17,  38,  23,  11,\n",
    "     10,  17,  23,  15,  20,  45,  44,  13,\n",
    "     -8,  22,  24,  27,  26,  33,  26,   3,\n",
    "    -18,  -4,  21,  24,  27,  23,   9, -11,\n",
    "    -19,  -3,  11,  21,  23,  16,   7,  -9,\n",
    "    -27, -11,   4,  13,  14,   4,  -5, -17,\n",
    "    -53, -34, -21, -11, -28, -14, -24, -43\n",
    "]\n",
    "\n",
    "mg = mg_pawn_table + mg_knight_table + mg_bishop_table + mg_rook_table + mg_queen_table + mg_king_table\n",
    "\n",
    "eg = eg_pawn_table + eg_knight_table + eg_bishop_table + eg_rook_table + eg_queen_table + eg_king_table\n",
    "\n",
    "\n",
    "\n",
    "print(\"Max Value: \", max(mg),\", \", max(eg))\n",
    "print(\"Min Value: \", min(mg),\", \", min(eg))\n"
   ]
  },
  {
   "cell_type": "code",
   "execution_count": 10,
   "outputs": [],
   "source": [
    "def shift_over(growing, next_list, shift):\n",
    "    res = [(i+167) << shift for i in next_list]\n",
    "    res_list = [growing[i] + res[i] for i in range(len(res))]\n",
    "    return res_list"
   ],
   "metadata": {
    "collapsed": false,
    "ExecuteTime": {
     "end_time": "2023-09-16T21:19:10.425988Z",
     "start_time": "2023-09-16T21:19:10.419758Z"
    }
   },
   "id": "d5fd07a6dcfdd50b"
  },
  {
   "cell_type": "code",
   "execution_count": 11,
   "outputs": [],
   "source": [
    "mg_table = [i+167 for i in mg_pawn_table]\n",
    "mg_table = shift_over(mg_table, mg_knight_table, 9)\n",
    "mg_table = shift_over(mg_table, mg_bishop_table, 18)\n",
    "mg_table = shift_over(mg_table, mg_rook_table, 27)\n",
    "mg_table = shift_over(mg_table, mg_queen_table, 36)\n",
    "mg_table = shift_over(mg_table, mg_king_table, 45)"
   ],
   "metadata": {
    "collapsed": false,
    "ExecuteTime": {
     "end_time": "2023-09-16T21:19:10.901581Z",
     "start_time": "2023-09-16T21:19:10.898038Z"
    }
   },
   "id": "805f43e522f1c6c6"
  },
  {
   "cell_type": "code",
   "execution_count": 12,
   "outputs": [
    {
     "name": "stdout",
     "output_type": "stream",
     "text": [
      "{3598384705831079,6696534945864871,6452235841374887,5360354637442215,3921026811021479,4694044952530087,5960616593928359,6347783732492455,6905989889834249,5849428617133357,5183265490460388,5641075182638854,5604725006630123,5750477279578917,4552210250030281,4870658704092316,5569735372370081,6730548008568494,5958142031141057,5324893394424006,5185596463642344,6102249325875423,6664582948053184,5117151720875667,5287295776013465,5181744406950068,5463977717494957,4936214694443196,4831692098476222,5008852385913011,5394569029579448,4620717389085328,4162631208613004,5850314184939173,4936690620788386,4514410916047027,4268671411521208,4338900563489965,4726411437111473,4092676528750222,5393739427946637,5394841627868323,5112474505930403,4268667916870301,4338833186714794,4831895033049258,5360484574658760,4937649874087579,5920062035530884,6133027454903462,5606567007041171,3635625166981264,4374910373285016,5325371070313151,6203741143380685,6168822916655249,5359451890023591,7152687448663207,6308882869967527,3988022127824039,6167735078300839,4900409280632487,6729578399738023,6376430489903271}\n"
     ]
    }
   ],
   "source": [
    "mg_table_string = \"{\"\n",
    "for i in mg_table:\n",
    "    mg_table_string = mg_table_string + (str(i) + \",\")\n",
    "mg_table_string = mg_table_string[:-1] + \"}\"\n",
    "print(mg_table_string)"
   ],
   "metadata": {
    "collapsed": false,
    "ExecuteTime": {
     "end_time": "2023-09-16T21:19:11.359538Z",
     "start_time": "2023-09-16T21:19:11.357126Z"
    }
   },
   "id": "60d64a80ba7eb4ce"
  },
  {
   "cell_type": "code",
   "execution_count": 13,
   "outputs": [],
   "source": [
    "eg_table = [i+167 for i in eg_pawn_table]\n",
    "eg_table = shift_over(eg_table, eg_knight_table, 9)\n",
    "eg_table = shift_over(eg_table, eg_bishop_table, 18)\n",
    "eg_table = shift_over(eg_table, eg_rook_table, 27)\n",
    "eg_table = shift_over(eg_table, eg_queen_table, 36)\n",
    "eg_table = shift_over(eg_table, eg_king_table, 45)"
   ],
   "metadata": {
    "collapsed": false,
    "ExecuteTime": {
     "end_time": "2023-09-16T21:19:12.280789Z",
     "start_time": "2023-09-16T21:19:12.277205Z"
    }
   },
   "id": "a7458a5a255a8a84"
  },
  {
   "cell_type": "code",
   "execution_count": 14,
   "outputs": [
    {
     "name": "stdout",
     "output_type": "stream",
     "text": [
      "{3283028480940711,4657348891706023,5255484293592231,5255827489101479,5502117691330727,6416361609304231,6028714502049959,5290529478445223,5463909527788889,6486799208496980,6382070728826181,6488242046978861,6489408401390906,7226013275200811,6698591964700492,6274317241608034,6237759021063941,6485836329461515,6697148722537212,6418422256197866,6594206543203551,7472990274272476,7436706120542457,6345303660494075,5606020467469511,6662857169130687,6733364695235252,6840359309114028,6805999706274469,7051121944519851,6805999300730552,5995316036053688,5252733502565044,5748476078539440,6627467310755492,6734944037077152,6839396430605984,6698864967250079,6206627083540138,5501839725898406,5217685628330155,5779880206747822,6275346965810337,6626572748811432,6697146846896807,6451405324372130,6134265473476262,5570970846831263,4935798065789620,5498679298696879,6025964651887279,6343586343371953,6378769240378036,6026444479735463,5708891507728553,5286954991154848,4020248072230055,4689096219355303,5146905503932583,5497305583661223,4901782060343975,5392506768140967,5041489965542055,4371540562464423}\n"
     ]
    }
   ],
   "source": [
    "eg_table_string = \"{\"\n",
    "for i in eg_table:\n",
    "    eg_table_string = eg_table_string + (str(i) + \",\")\n",
    "eg_table_string = eg_table_string[:-1] + \"}\"\n",
    "print(eg_table_string)"
   ],
   "metadata": {
    "collapsed": false,
    "ExecuteTime": {
     "end_time": "2023-09-16T21:19:12.695975Z",
     "start_time": "2023-09-16T21:19:12.690506Z"
    }
   },
   "id": "d1baeee7e47a2b78"
  },
  {
   "cell_type": "code",
   "execution_count": 16,
   "outputs": [],
   "source": [
    "restructured_mg_king_table = [((e >> 45) & 511)-167 for e in mg_table]\n",
    "restructured_mg_queen_table = [((e >> 36) & 511)-167 for e in mg_table]\n",
    "restructured_mg_rook_table = [((e >> 27) & 511)-167 for e in mg_table]\n",
    "restructured_mg_bishop_table = [((e >> 18) & 511)-167 for e in mg_table]\n",
    "restructured_mg_knight_table = [((e >> 9) & 511)-167 for e in mg_table]\n",
    "restructured_mg_pawn_table = [((e >> 0) & 511)-167 for e in mg_table]\n",
    "\n",
    "restructured_eg_king_table = [((e >> 45) & 511)-167 for e in eg_table]\n",
    "restructured_eg_queen_table = [((e >> 36) & 511)-167 for e in eg_table]\n",
    "restructured_eg_rook_table = [((e >> 27) & 511)-167 for e in eg_table]\n",
    "restructured_eg_bishop_table = [((e >> 18) & 511)-167 for e in eg_table]\n",
    "restructured_eg_knight_table = [((e >> 9) & 511)-167 for e in eg_table]\n",
    "restructured_eg_pawn_table = [((e >> 0) & 511)-167 for e in eg_table]"
   ],
   "metadata": {
    "collapsed": false,
    "ExecuteTime": {
     "end_time": "2023-09-16T21:26:57.710320Z",
     "start_time": "2023-09-16T21:26:57.702661Z"
    }
   },
   "id": "2fbbf647ad6cd9a2"
  },
  {
   "cell_type": "code",
   "execution_count": 20,
   "outputs": [
    {
     "data": {
      "text/plain": "0"
     },
     "execution_count": 20,
     "metadata": {},
     "output_type": "execute_result"
    }
   ],
   "source": [
    "import numpy as np\n",
    "s = 0\n",
    "s += np.sum(np.subtract(restructured_mg_pawn_table, mg_pawn_table))\n",
    "s += np.sum(np.subtract(restructured_mg_knight_table, mg_knight_table))\n",
    "s += np.sum(np.subtract(restructured_mg_bishop_table, mg_bishop_table))\n",
    "s += np.sum(np.subtract(restructured_mg_rook_table, mg_rook_table))\n",
    "s += np.sum(np.subtract(restructured_mg_queen_table, mg_queen_table))\n",
    "s += np.sum(np.subtract(restructured_mg_king_table, mg_king_table))\n",
    "\n",
    "s += np.sum(np.subtract(restructured_eg_pawn_table, eg_pawn_table))\n",
    "s += np.sum(np.subtract(restructured_eg_knight_table, eg_knight_table))\n",
    "s += np.sum(np.subtract(restructured_eg_bishop_table, eg_bishop_table))\n",
    "s += np.sum(np.subtract(restructured_eg_rook_table, eg_rook_table))\n",
    "s += np.sum(np.subtract(restructured_eg_queen_table, eg_queen_table))\n",
    "s += np.sum(np.subtract(restructured_eg_king_table, eg_king_table))\n",
    "s"
   ],
   "metadata": {
    "collapsed": false,
    "ExecuteTime": {
     "end_time": "2023-09-16T21:30:03.078946Z",
     "start_time": "2023-09-16T21:30:03.074015Z"
    }
   },
   "id": "d1425cb5ca9bbed4"
  }
 ],
 "metadata": {
  "kernelspec": {
   "display_name": "Python 3",
   "language": "python",
   "name": "python3"
  },
  "language_info": {
   "codemirror_mode": {
    "name": "ipython",
    "version": 2
   },
   "file_extension": ".py",
   "mimetype": "text/x-python",
   "name": "python",
   "nbconvert_exporter": "python",
   "pygments_lexer": "ipython2",
   "version": "2.7.6"
  }
 },
 "nbformat": 4,
 "nbformat_minor": 5
}
